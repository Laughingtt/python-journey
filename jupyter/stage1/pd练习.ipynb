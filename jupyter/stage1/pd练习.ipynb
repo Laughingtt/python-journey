{
 "cells": [
  {
   "cell_type": "code",
   "execution_count": 5,
   "metadata": {},
   "outputs": [],
   "source": [
    "import pandas as pd\n",
    "from pandas import DataFrame\n",
    "import numpy as np"
   ]
  },
  {
   "cell_type": "code",
   "execution_count": 7,
   "metadata": {},
   "outputs": [],
   "source": [
    "d = DataFrame(data=np.random.randint(60,100,size=(3,3)),index=['a','b','c'],columns=['A','B','C'])"
   ]
  },
  {
   "cell_type": "code",
   "execution_count": 56,
   "metadata": {},
   "outputs": [
    {
     "data": {
      "text/html": [
       "<div>\n",
       "<style scoped>\n",
       "    .dataframe tbody tr th:only-of-type {\n",
       "        vertical-align: middle;\n",
       "    }\n",
       "\n",
       "    .dataframe tbody tr th {\n",
       "        vertical-align: top;\n",
       "    }\n",
       "\n",
       "    .dataframe thead th {\n",
       "        text-align: right;\n",
       "    }\n",
       "</style>\n",
       "<table border=\"1\" class=\"dataframe\">\n",
       "  <thead>\n",
       "    <tr style=\"text-align: right;\">\n",
       "      <th></th>\n",
       "      <th>A</th>\n",
       "      <th>B</th>\n",
       "      <th>C</th>\n",
       "    </tr>\n",
       "  </thead>\n",
       "  <tbody>\n",
       "    <tr>\n",
       "      <th>a</th>\n",
       "      <td>69</td>\n",
       "      <td>69</td>\n",
       "      <td>62</td>\n",
       "    </tr>\n",
       "    <tr>\n",
       "      <th>b</th>\n",
       "      <td>94</td>\n",
       "      <td>72</td>\n",
       "      <td>96</td>\n",
       "    </tr>\n",
       "    <tr>\n",
       "      <th>c</th>\n",
       "      <td>68</td>\n",
       "      <td>75</td>\n",
       "      <td>90</td>\n",
       "    </tr>\n",
       "  </tbody>\n",
       "</table>\n",
       "</div>"
      ],
      "text/plain": [
       "    A   B   C\n",
       "a  69  69  62\n",
       "b  94  72  96\n",
       "c  68  75  90"
      ]
     },
     "execution_count": 56,
     "metadata": {},
     "output_type": "execute_result"
    }
   ],
   "source": [
    "d.iloc[:]"
   ]
  },
  {
   "cell_type": "code",
   "execution_count": 57,
   "metadata": {},
   "outputs": [
    {
     "data": {
      "text/plain": [
       "A    69\n",
       "B    69\n",
       "C    62\n",
       "Name: a, dtype: int64"
      ]
     },
     "execution_count": 57,
     "metadata": {},
     "output_type": "execute_result"
    }
   ],
   "source": [
    "d.iloc[0,:]"
   ]
  },
  {
   "cell_type": "code",
   "execution_count": 60,
   "metadata": {},
   "outputs": [
    {
     "data": {
      "text/plain": [
       "A    b\n",
       "B    c\n",
       "C    b\n",
       "dtype: object"
      ]
     },
     "execution_count": 60,
     "metadata": {},
     "output_type": "execute_result"
    }
   ],
   "source": [
    "d.idxmax()"
   ]
  },
  {
   "cell_type": "code",
   "execution_count": 61,
   "metadata": {},
   "outputs": [
    {
     "data": {
      "text/plain": [
       "A    c\n",
       "B    a\n",
       "C    a\n",
       "dtype: object"
      ]
     },
     "execution_count": 61,
     "metadata": {},
     "output_type": "execute_result"
    }
   ],
   "source": [
    "d.idxmin()"
   ]
  },
  {
   "cell_type": "code",
   "execution_count": 19,
   "metadata": {},
   "outputs": [],
   "source": [
    "data = pd.read_csv(\"./wcdata.csv\")"
   ]
  },
  {
   "cell_type": "code",
   "execution_count": 22,
   "metadata": {},
   "outputs": [],
   "source": [
    "x = data.iloc[:,2:]"
   ]
  },
  {
   "cell_type": "code",
   "execution_count": 24,
   "metadata": {},
   "outputs": [],
   "source": [
    "y = data.iloc[:,1]"
   ]
  },
  {
   "cell_type": "code",
   "execution_count": 27,
   "metadata": {},
   "outputs": [
    {
     "data": {
      "text/plain": [
       "0    0\n",
       "1    1\n",
       "2    0\n",
       "3    0\n",
       "4    0\n",
       "Name: is_bad, dtype: int64"
      ]
     },
     "execution_count": 27,
     "metadata": {},
     "output_type": "execute_result"
    }
   ],
   "source": [
    "y.head()"
   ]
  },
  {
   "cell_type": "code",
   "execution_count": 28,
   "metadata": {},
   "outputs": [
    {
     "data": {
      "text/html": [
       "<div>\n",
       "<style scoped>\n",
       "    .dataframe tbody tr th:only-of-type {\n",
       "        vertical-align: middle;\n",
       "    }\n",
       "\n",
       "    .dataframe tbody tr th {\n",
       "        vertical-align: top;\n",
       "    }\n",
       "\n",
       "    .dataframe thead th {\n",
       "        text-align: right;\n",
       "    }\n",
       "</style>\n",
       "<table border=\"1\" class=\"dataframe\">\n",
       "  <thead>\n",
       "    <tr style=\"text-align: right;\">\n",
       "      <th></th>\n",
       "      <th>w_d_7_cnt</th>\n",
       "      <th>w_mean</th>\n",
       "      <th>w_cpc_mthly_call_02_cnt</th>\n",
       "      <th>w_app_cnt_m1</th>\n",
       "      <th>w_d_60_cnt</th>\n",
       "      <th>w_d_30_cnt</th>\n",
       "      <th>w_rpt_org_m3</th>\n",
       "      <th>w_most_familiar_applied</th>\n",
       "      <th>w_recharge_amt_m6</th>\n",
       "      <th>w_cpa_rt_days</th>\n",
       "      <th>w_be_not_familiar</th>\n",
       "      <th>w_app_time_minus_update_time</th>\n",
       "      <th>w_cpb_mth_avg_pay</th>\n",
       "      <th>w_cpc_cnt_week_cv</th>\n",
       "      <th>w_pct_cnt_to_black</th>\n",
       "      <th>w_cnt_applied_over_cnt_all</th>\n",
       "      <th>w_cpc_hldy_len</th>\n",
       "    </tr>\n",
       "  </thead>\n",
       "  <tbody>\n",
       "    <tr>\n",
       "      <th>0</th>\n",
       "      <td>0.09894</td>\n",
       "      <td>0.153095</td>\n",
       "      <td>-0.156092</td>\n",
       "      <td>-0.248885</td>\n",
       "      <td>-0.035605</td>\n",
       "      <td>0.082507</td>\n",
       "      <td>-0.081371</td>\n",
       "      <td>0.061115</td>\n",
       "      <td>0.113576</td>\n",
       "      <td>-0.019167</td>\n",
       "      <td>0.070293</td>\n",
       "      <td>-0.133868</td>\n",
       "      <td>0.017751</td>\n",
       "      <td>0.219471</td>\n",
       "      <td>0.050594</td>\n",
       "      <td>0.108873</td>\n",
       "      <td>-0.110621</td>\n",
       "    </tr>\n",
       "    <tr>\n",
       "      <th>1</th>\n",
       "      <td>0.09894</td>\n",
       "      <td>-0.071757</td>\n",
       "      <td>-0.156092</td>\n",
       "      <td>-0.114577</td>\n",
       "      <td>-0.035605</td>\n",
       "      <td>0.082507</td>\n",
       "      <td>-0.081371</td>\n",
       "      <td>0.061115</td>\n",
       "      <td>-0.284809</td>\n",
       "      <td>-0.019167</td>\n",
       "      <td>-0.186296</td>\n",
       "      <td>-0.133868</td>\n",
       "      <td>-0.217614</td>\n",
       "      <td>-0.488645</td>\n",
       "      <td>0.050594</td>\n",
       "      <td>-0.146481</td>\n",
       "      <td>-0.110621</td>\n",
       "    </tr>\n",
       "    <tr>\n",
       "      <th>2</th>\n",
       "      <td>0.09894</td>\n",
       "      <td>-0.071757</td>\n",
       "      <td>0.133516</td>\n",
       "      <td>0.301452</td>\n",
       "      <td>0.176315</td>\n",
       "      <td>0.172905</td>\n",
       "      <td>0.162956</td>\n",
       "      <td>0.061115</td>\n",
       "      <td>0.205499</td>\n",
       "      <td>-0.019167</td>\n",
       "      <td>0.070293</td>\n",
       "      <td>0.256831</td>\n",
       "      <td>0.017751</td>\n",
       "      <td>0.219471</td>\n",
       "      <td>0.050594</td>\n",
       "      <td>0.214858</td>\n",
       "      <td>0.169379</td>\n",
       "    </tr>\n",
       "    <tr>\n",
       "      <th>3</th>\n",
       "      <td>0.09894</td>\n",
       "      <td>-0.071757</td>\n",
       "      <td>-0.156092</td>\n",
       "      <td>0.033449</td>\n",
       "      <td>0.046013</td>\n",
       "      <td>0.172905</td>\n",
       "      <td>-0.081371</td>\n",
       "      <td>0.061115</td>\n",
       "      <td>-0.284809</td>\n",
       "      <td>-0.019167</td>\n",
       "      <td>0.070293</td>\n",
       "      <td>0.132377</td>\n",
       "      <td>0.017751</td>\n",
       "      <td>-0.190037</td>\n",
       "      <td>0.050594</td>\n",
       "      <td>0.108873</td>\n",
       "      <td>0.169379</td>\n",
       "    </tr>\n",
       "    <tr>\n",
       "      <th>4</th>\n",
       "      <td>0.09894</td>\n",
       "      <td>-0.071757</td>\n",
       "      <td>0.133516</td>\n",
       "      <td>0.301452</td>\n",
       "      <td>0.046013</td>\n",
       "      <td>0.172905</td>\n",
       "      <td>0.162956</td>\n",
       "      <td>0.061115</td>\n",
       "      <td>0.205499</td>\n",
       "      <td>-0.019167</td>\n",
       "      <td>-0.139472</td>\n",
       "      <td>0.256831</td>\n",
       "      <td>-0.217614</td>\n",
       "      <td>0.008389</td>\n",
       "      <td>0.050594</td>\n",
       "      <td>-0.146481</td>\n",
       "      <td>0.169379</td>\n",
       "    </tr>\n",
       "  </tbody>\n",
       "</table>\n",
       "</div>"
      ],
      "text/plain": [
       "   w_d_7_cnt    w_mean  w_cpc_mthly_call_02_cnt  w_app_cnt_m1  w_d_60_cnt  \\\n",
       "0    0.09894  0.153095                -0.156092     -0.248885   -0.035605   \n",
       "1    0.09894 -0.071757                -0.156092     -0.114577   -0.035605   \n",
       "2    0.09894 -0.071757                 0.133516      0.301452    0.176315   \n",
       "3    0.09894 -0.071757                -0.156092      0.033449    0.046013   \n",
       "4    0.09894 -0.071757                 0.133516      0.301452    0.046013   \n",
       "\n",
       "   w_d_30_cnt  w_rpt_org_m3  w_most_familiar_applied  w_recharge_amt_m6  \\\n",
       "0    0.082507     -0.081371                 0.061115           0.113576   \n",
       "1    0.082507     -0.081371                 0.061115          -0.284809   \n",
       "2    0.172905      0.162956                 0.061115           0.205499   \n",
       "3    0.172905     -0.081371                 0.061115          -0.284809   \n",
       "4    0.172905      0.162956                 0.061115           0.205499   \n",
       "\n",
       "   w_cpa_rt_days  w_be_not_familiar  w_app_time_minus_update_time  \\\n",
       "0      -0.019167           0.070293                     -0.133868   \n",
       "1      -0.019167          -0.186296                     -0.133868   \n",
       "2      -0.019167           0.070293                      0.256831   \n",
       "3      -0.019167           0.070293                      0.132377   \n",
       "4      -0.019167          -0.139472                      0.256831   \n",
       "\n",
       "   w_cpb_mth_avg_pay  w_cpc_cnt_week_cv  w_pct_cnt_to_black  \\\n",
       "0           0.017751           0.219471            0.050594   \n",
       "1          -0.217614          -0.488645            0.050594   \n",
       "2           0.017751           0.219471            0.050594   \n",
       "3           0.017751          -0.190037            0.050594   \n",
       "4          -0.217614           0.008389            0.050594   \n",
       "\n",
       "   w_cnt_applied_over_cnt_all  w_cpc_hldy_len  \n",
       "0                    0.108873       -0.110621  \n",
       "1                   -0.146481       -0.110621  \n",
       "2                    0.214858        0.169379  \n",
       "3                    0.108873        0.169379  \n",
       "4                   -0.146481        0.169379  "
      ]
     },
     "execution_count": 28,
     "metadata": {},
     "output_type": "execute_result"
    }
   ],
   "source": [
    "x.head()"
   ]
  },
  {
   "cell_type": "code",
   "execution_count": 31,
   "metadata": {},
   "outputs": [
    {
     "data": {
      "text/plain": [
       "['w_d_7_cnt',\n",
       " 'w_mean',\n",
       " 'w_cpc_mthly_call_02_cnt',\n",
       " 'w_app_cnt_m1',\n",
       " 'w_d_60_cnt',\n",
       " 'w_d_30_cnt',\n",
       " 'w_rpt_org_m3',\n",
       " 'w_most_familiar_applied',\n",
       " 'w_recharge_amt_m6',\n",
       " 'w_cpa_rt_days',\n",
       " 'w_be_not_familiar',\n",
       " 'w_app_time_minus_update_time',\n",
       " 'w_cpb_mth_avg_pay',\n",
       " 'w_cpc_cnt_week_cv',\n",
       " 'w_pct_cnt_to_black',\n",
       " 'w_cnt_applied_over_cnt_all',\n",
       " 'w_cpc_hldy_len']"
      ]
     },
     "execution_count": 31,
     "metadata": {},
     "output_type": "execute_result"
    }
   ],
   "source": [
    "x.columns.to_list()"
   ]
  },
  {
   "cell_type": "code",
   "execution_count": 52,
   "metadata": {},
   "outputs": [
    {
     "name": "stderr",
     "output_type": "stream",
     "text": [
      "/Users/tian/.pyenv/versions/3.7.5/lib/python3.7/site-packages/ipykernel_launcher.py:1: DeprecationWarning: The default dtype for empty Series will be 'object' instead of 'float64' in a future version. Specify a dtype explicitly to silence this warning.\n",
      "  \"\"\"Entry point for launching an IPython kernel.\n"
     ]
    },
    {
     "data": {
      "text/plain": [
       "nan"
      ]
     },
     "execution_count": 52,
     "metadata": {},
     "output_type": "execute_result"
    }
   ],
   "source": [
    "pd.Series(index=x.columns.to_list()).idxmin()"
   ]
  },
  {
   "cell_type": "code",
   "execution_count": 33,
   "metadata": {},
   "outputs": [
    {
     "data": {
      "text/html": [
       "<div>\n",
       "<style scoped>\n",
       "    .dataframe tbody tr th:only-of-type {\n",
       "        vertical-align: middle;\n",
       "    }\n",
       "\n",
       "    .dataframe tbody tr th {\n",
       "        vertical-align: top;\n",
       "    }\n",
       "\n",
       "    .dataframe thead th {\n",
       "        text-align: right;\n",
       "    }\n",
       "</style>\n",
       "<table border=\"1\" class=\"dataframe\">\n",
       "  <thead>\n",
       "    <tr style=\"text-align: right;\">\n",
       "      <th></th>\n",
       "      <th>w_d_7_cnt</th>\n",
       "      <th>w_mean</th>\n",
       "      <th>w_cpc_mthly_call_02_cnt</th>\n",
       "      <th>w_app_cnt_m1</th>\n",
       "      <th>w_d_60_cnt</th>\n",
       "      <th>w_d_30_cnt</th>\n",
       "      <th>w_rpt_org_m3</th>\n",
       "      <th>w_most_familiar_applied</th>\n",
       "      <th>w_recharge_amt_m6</th>\n",
       "      <th>w_cpa_rt_days</th>\n",
       "      <th>w_be_not_familiar</th>\n",
       "      <th>w_app_time_minus_update_time</th>\n",
       "      <th>w_cpb_mth_avg_pay</th>\n",
       "      <th>w_cpc_cnt_week_cv</th>\n",
       "      <th>w_pct_cnt_to_black</th>\n",
       "      <th>w_cnt_applied_over_cnt_all</th>\n",
       "      <th>w_cpc_hldy_len</th>\n",
       "    </tr>\n",
       "  </thead>\n",
       "  <tbody>\n",
       "    <tr>\n",
       "      <th>0</th>\n",
       "      <td>0.098940</td>\n",
       "      <td>0.153095</td>\n",
       "      <td>-0.156092</td>\n",
       "      <td>-0.248885</td>\n",
       "      <td>-0.035605</td>\n",
       "      <td>0.082507</td>\n",
       "      <td>-0.081371</td>\n",
       "      <td>0.061115</td>\n",
       "      <td>0.113576</td>\n",
       "      <td>-0.019167</td>\n",
       "      <td>0.070293</td>\n",
       "      <td>-0.133868</td>\n",
       "      <td>0.017751</td>\n",
       "      <td>0.219471</td>\n",
       "      <td>0.050594</td>\n",
       "      <td>0.108873</td>\n",
       "      <td>-0.110621</td>\n",
       "    </tr>\n",
       "    <tr>\n",
       "      <th>1</th>\n",
       "      <td>0.098940</td>\n",
       "      <td>-0.071757</td>\n",
       "      <td>-0.156092</td>\n",
       "      <td>-0.114577</td>\n",
       "      <td>-0.035605</td>\n",
       "      <td>0.082507</td>\n",
       "      <td>-0.081371</td>\n",
       "      <td>0.061115</td>\n",
       "      <td>-0.284809</td>\n",
       "      <td>-0.019167</td>\n",
       "      <td>-0.186296</td>\n",
       "      <td>-0.133868</td>\n",
       "      <td>-0.217614</td>\n",
       "      <td>-0.488645</td>\n",
       "      <td>0.050594</td>\n",
       "      <td>-0.146481</td>\n",
       "      <td>-0.110621</td>\n",
       "    </tr>\n",
       "    <tr>\n",
       "      <th>2</th>\n",
       "      <td>0.098940</td>\n",
       "      <td>-0.071757</td>\n",
       "      <td>0.133516</td>\n",
       "      <td>0.301452</td>\n",
       "      <td>0.176315</td>\n",
       "      <td>0.172905</td>\n",
       "      <td>0.162956</td>\n",
       "      <td>0.061115</td>\n",
       "      <td>0.205499</td>\n",
       "      <td>-0.019167</td>\n",
       "      <td>0.070293</td>\n",
       "      <td>0.256831</td>\n",
       "      <td>0.017751</td>\n",
       "      <td>0.219471</td>\n",
       "      <td>0.050594</td>\n",
       "      <td>0.214858</td>\n",
       "      <td>0.169379</td>\n",
       "    </tr>\n",
       "    <tr>\n",
       "      <th>3</th>\n",
       "      <td>0.098940</td>\n",
       "      <td>-0.071757</td>\n",
       "      <td>-0.156092</td>\n",
       "      <td>0.033449</td>\n",
       "      <td>0.046013</td>\n",
       "      <td>0.172905</td>\n",
       "      <td>-0.081371</td>\n",
       "      <td>0.061115</td>\n",
       "      <td>-0.284809</td>\n",
       "      <td>-0.019167</td>\n",
       "      <td>0.070293</td>\n",
       "      <td>0.132377</td>\n",
       "      <td>0.017751</td>\n",
       "      <td>-0.190037</td>\n",
       "      <td>0.050594</td>\n",
       "      <td>0.108873</td>\n",
       "      <td>0.169379</td>\n",
       "    </tr>\n",
       "    <tr>\n",
       "      <th>4</th>\n",
       "      <td>0.098940</td>\n",
       "      <td>-0.071757</td>\n",
       "      <td>0.133516</td>\n",
       "      <td>0.301452</td>\n",
       "      <td>0.046013</td>\n",
       "      <td>0.172905</td>\n",
       "      <td>0.162956</td>\n",
       "      <td>0.061115</td>\n",
       "      <td>0.205499</td>\n",
       "      <td>-0.019167</td>\n",
       "      <td>-0.139472</td>\n",
       "      <td>0.256831</td>\n",
       "      <td>-0.217614</td>\n",
       "      <td>0.008389</td>\n",
       "      <td>0.050594</td>\n",
       "      <td>-0.146481</td>\n",
       "      <td>0.169379</td>\n",
       "    </tr>\n",
       "    <tr>\n",
       "      <th>...</th>\n",
       "      <td>...</td>\n",
       "      <td>...</td>\n",
       "      <td>...</td>\n",
       "      <td>...</td>\n",
       "      <td>...</td>\n",
       "      <td>...</td>\n",
       "      <td>...</td>\n",
       "      <td>...</td>\n",
       "      <td>...</td>\n",
       "      <td>...</td>\n",
       "      <td>...</td>\n",
       "      <td>...</td>\n",
       "      <td>...</td>\n",
       "      <td>...</td>\n",
       "      <td>...</td>\n",
       "      <td>...</td>\n",
       "      <td>...</td>\n",
       "    </tr>\n",
       "    <tr>\n",
       "      <th>19995</th>\n",
       "      <td>0.098940</td>\n",
       "      <td>-0.071757</td>\n",
       "      <td>0.133516</td>\n",
       "      <td>0.033449</td>\n",
       "      <td>-0.035605</td>\n",
       "      <td>0.082507</td>\n",
       "      <td>-0.081371</td>\n",
       "      <td>0.061115</td>\n",
       "      <td>0.205499</td>\n",
       "      <td>-0.019167</td>\n",
       "      <td>0.290524</td>\n",
       "      <td>-0.133868</td>\n",
       "      <td>0.017751</td>\n",
       "      <td>0.219471</td>\n",
       "      <td>-0.050609</td>\n",
       "      <td>0.108873</td>\n",
       "      <td>-0.110621</td>\n",
       "    </tr>\n",
       "    <tr>\n",
       "      <th>19996</th>\n",
       "      <td>-0.086195</td>\n",
       "      <td>-0.071757</td>\n",
       "      <td>0.133516</td>\n",
       "      <td>-0.248885</td>\n",
       "      <td>-0.035605</td>\n",
       "      <td>-0.218045</td>\n",
       "      <td>-0.081371</td>\n",
       "      <td>0.061115</td>\n",
       "      <td>0.205499</td>\n",
       "      <td>-0.019167</td>\n",
       "      <td>0.290524</td>\n",
       "      <td>-0.289688</td>\n",
       "      <td>0.017751</td>\n",
       "      <td>0.219471</td>\n",
       "      <td>-0.050609</td>\n",
       "      <td>-0.146481</td>\n",
       "      <td>0.169379</td>\n",
       "    </tr>\n",
       "    <tr>\n",
       "      <th>19997</th>\n",
       "      <td>-0.086195</td>\n",
       "      <td>-0.071757</td>\n",
       "      <td>-0.156092</td>\n",
       "      <td>-0.738327</td>\n",
       "      <td>-0.035605</td>\n",
       "      <td>-0.218045</td>\n",
       "      <td>-0.574939</td>\n",
       "      <td>-0.103970</td>\n",
       "      <td>0.205499</td>\n",
       "      <td>0.168365</td>\n",
       "      <td>0.070293</td>\n",
       "      <td>-0.289688</td>\n",
       "      <td>0.017751</td>\n",
       "      <td>0.219471</td>\n",
       "      <td>-0.050609</td>\n",
       "      <td>-0.146481</td>\n",
       "      <td>0.169379</td>\n",
       "    </tr>\n",
       "    <tr>\n",
       "      <th>19998</th>\n",
       "      <td>-0.086195</td>\n",
       "      <td>-0.118431</td>\n",
       "      <td>0.277022</td>\n",
       "      <td>0.033449</td>\n",
       "      <td>-0.035605</td>\n",
       "      <td>0.082507</td>\n",
       "      <td>0.162956</td>\n",
       "      <td>0.061115</td>\n",
       "      <td>0.205499</td>\n",
       "      <td>0.003990</td>\n",
       "      <td>-0.186296</td>\n",
       "      <td>0.277022</td>\n",
       "      <td>0.277022</td>\n",
       "      <td>0.277022</td>\n",
       "      <td>-0.390181</td>\n",
       "      <td>-0.146481</td>\n",
       "      <td>0.277022</td>\n",
       "    </tr>\n",
       "    <tr>\n",
       "      <th>19999</th>\n",
       "      <td>0.098940</td>\n",
       "      <td>-0.071757</td>\n",
       "      <td>0.444288</td>\n",
       "      <td>0.033449</td>\n",
       "      <td>-0.035605</td>\n",
       "      <td>-0.061875</td>\n",
       "      <td>0.162956</td>\n",
       "      <td>0.061115</td>\n",
       "      <td>0.113576</td>\n",
       "      <td>0.168365</td>\n",
       "      <td>0.290524</td>\n",
       "      <td>-0.133868</td>\n",
       "      <td>0.017751</td>\n",
       "      <td>0.219471</td>\n",
       "      <td>-0.050609</td>\n",
       "      <td>-0.146481</td>\n",
       "      <td>-0.110621</td>\n",
       "    </tr>\n",
       "  </tbody>\n",
       "</table>\n",
       "<p>20000 rows × 17 columns</p>\n",
       "</div>"
      ],
      "text/plain": [
       "       w_d_7_cnt    w_mean  w_cpc_mthly_call_02_cnt  w_app_cnt_m1  w_d_60_cnt  \\\n",
       "0       0.098940  0.153095                -0.156092     -0.248885   -0.035605   \n",
       "1       0.098940 -0.071757                -0.156092     -0.114577   -0.035605   \n",
       "2       0.098940 -0.071757                 0.133516      0.301452    0.176315   \n",
       "3       0.098940 -0.071757                -0.156092      0.033449    0.046013   \n",
       "4       0.098940 -0.071757                 0.133516      0.301452    0.046013   \n",
       "...          ...       ...                      ...           ...         ...   \n",
       "19995   0.098940 -0.071757                 0.133516      0.033449   -0.035605   \n",
       "19996  -0.086195 -0.071757                 0.133516     -0.248885   -0.035605   \n",
       "19997  -0.086195 -0.071757                -0.156092     -0.738327   -0.035605   \n",
       "19998  -0.086195 -0.118431                 0.277022      0.033449   -0.035605   \n",
       "19999   0.098940 -0.071757                 0.444288      0.033449   -0.035605   \n",
       "\n",
       "       w_d_30_cnt  w_rpt_org_m3  w_most_familiar_applied  w_recharge_amt_m6  \\\n",
       "0        0.082507     -0.081371                 0.061115           0.113576   \n",
       "1        0.082507     -0.081371                 0.061115          -0.284809   \n",
       "2        0.172905      0.162956                 0.061115           0.205499   \n",
       "3        0.172905     -0.081371                 0.061115          -0.284809   \n",
       "4        0.172905      0.162956                 0.061115           0.205499   \n",
       "...           ...           ...                      ...                ...   \n",
       "19995    0.082507     -0.081371                 0.061115           0.205499   \n",
       "19996   -0.218045     -0.081371                 0.061115           0.205499   \n",
       "19997   -0.218045     -0.574939                -0.103970           0.205499   \n",
       "19998    0.082507      0.162956                 0.061115           0.205499   \n",
       "19999   -0.061875      0.162956                 0.061115           0.113576   \n",
       "\n",
       "       w_cpa_rt_days  w_be_not_familiar  w_app_time_minus_update_time  \\\n",
       "0          -0.019167           0.070293                     -0.133868   \n",
       "1          -0.019167          -0.186296                     -0.133868   \n",
       "2          -0.019167           0.070293                      0.256831   \n",
       "3          -0.019167           0.070293                      0.132377   \n",
       "4          -0.019167          -0.139472                      0.256831   \n",
       "...              ...                ...                           ...   \n",
       "19995      -0.019167           0.290524                     -0.133868   \n",
       "19996      -0.019167           0.290524                     -0.289688   \n",
       "19997       0.168365           0.070293                     -0.289688   \n",
       "19998       0.003990          -0.186296                      0.277022   \n",
       "19999       0.168365           0.290524                     -0.133868   \n",
       "\n",
       "       w_cpb_mth_avg_pay  w_cpc_cnt_week_cv  w_pct_cnt_to_black  \\\n",
       "0               0.017751           0.219471            0.050594   \n",
       "1              -0.217614          -0.488645            0.050594   \n",
       "2               0.017751           0.219471            0.050594   \n",
       "3               0.017751          -0.190037            0.050594   \n",
       "4              -0.217614           0.008389            0.050594   \n",
       "...                  ...                ...                 ...   \n",
       "19995           0.017751           0.219471           -0.050609   \n",
       "19996           0.017751           0.219471           -0.050609   \n",
       "19997           0.017751           0.219471           -0.050609   \n",
       "19998           0.277022           0.277022           -0.390181   \n",
       "19999           0.017751           0.219471           -0.050609   \n",
       "\n",
       "       w_cnt_applied_over_cnt_all  w_cpc_hldy_len  \n",
       "0                        0.108873       -0.110621  \n",
       "1                       -0.146481       -0.110621  \n",
       "2                        0.214858        0.169379  \n",
       "3                        0.108873        0.169379  \n",
       "4                       -0.146481        0.169379  \n",
       "...                           ...             ...  \n",
       "19995                    0.108873       -0.110621  \n",
       "19996                   -0.146481        0.169379  \n",
       "19997                   -0.146481        0.169379  \n",
       "19998                   -0.146481        0.277022  \n",
       "19999                   -0.146481       -0.110621  \n",
       "\n",
       "[20000 rows x 17 columns]"
      ]
     },
     "execution_count": 33,
     "metadata": {},
     "output_type": "execute_result"
    }
   ],
   "source": [
    "x"
   ]
  },
  {
   "cell_type": "code",
   "execution_count": 34,
   "metadata": {},
   "outputs": [
    {
     "data": {
      "text/plain": [
       "0        0.098940\n",
       "1        0.098940\n",
       "2        0.098940\n",
       "3        0.098940\n",
       "4        0.098940\n",
       "           ...   \n",
       "19995    0.098940\n",
       "19996   -0.086195\n",
       "19997   -0.086195\n",
       "19998   -0.086195\n",
       "19999    0.098940\n",
       "Name: w_d_7_cnt, Length: 20000, dtype: float64"
      ]
     },
     "execution_count": 34,
     "metadata": {},
     "output_type": "execute_result"
    }
   ],
   "source": [
    "x['w_d_7_cnt']"
   ]
  },
  {
   "cell_type": "code",
   "execution_count": 37,
   "metadata": {},
   "outputs": [
    {
     "data": {
      "text/plain": [
       "array([[0],\n",
       "       [1],\n",
       "       [0],\n",
       "       ...,\n",
       "       [1],\n",
       "       [0],\n",
       "       [0]])"
      ]
     },
     "execution_count": 37,
     "metadata": {},
     "output_type": "execute_result"
    }
   ],
   "source": [
    "np.array(y).reshape(-1,1)"
   ]
  },
  {
   "cell_type": "code",
   "execution_count": 48,
   "metadata": {},
   "outputs": [],
   "source": [
    "p = np.append([1,2,3],[3,4])"
   ]
  },
  {
   "cell_type": "code",
   "execution_count": 49,
   "metadata": {},
   "outputs": [
    {
     "data": {
      "text/plain": [
       "array([1, 2, 3, 3, 4])"
      ]
     },
     "execution_count": 49,
     "metadata": {},
     "output_type": "execute_result"
    }
   ],
   "source": [
    "p"
   ]
  },
  {
   "cell_type": "code",
   "execution_count": 55,
   "metadata": {},
   "outputs": [
    {
     "data": {
      "text/plain": [
       "w_d_7_cnt                        17\n",
       "w_mean                          127\n",
       "w_cpc_mthly_call_02_cnt           0\n",
       "w_app_cnt_m1                     17\n",
       "w_d_60_cnt                        0\n",
       "w_d_30_cnt                       17\n",
       "w_rpt_org_m3                     17\n",
       "w_most_familiar_applied         116\n",
       "w_recharge_amt_m6                 1\n",
       "w_cpa_rt_days                    12\n",
       "w_be_not_familiar               127\n",
       "w_app_time_minus_update_time      9\n",
       "w_cpb_mth_avg_pay                 1\n",
       "w_cpc_cnt_week_cv                 1\n",
       "w_pct_cnt_to_black               10\n",
       "w_cnt_applied_over_cnt_all      127\n",
       "w_cpc_hldy_len                    0\n",
       "dtype: int64"
      ]
     },
     "execution_count": 55,
     "metadata": {},
     "output_type": "execute_result"
    }
   ],
   "source": [
    "x.idxmin()"
   ]
  },
  {
   "cell_type": "code",
   "execution_count": 66,
   "metadata": {},
   "outputs": [
    {
     "data": {
      "text/html": [
       "<div>\n",
       "<style scoped>\n",
       "    .dataframe tbody tr th:only-of-type {\n",
       "        vertical-align: middle;\n",
       "    }\n",
       "\n",
       "    .dataframe tbody tr th {\n",
       "        vertical-align: top;\n",
       "    }\n",
       "\n",
       "    .dataframe thead th {\n",
       "        text-align: right;\n",
       "    }\n",
       "</style>\n",
       "<table border=\"1\" class=\"dataframe\">\n",
       "  <thead>\n",
       "    <tr style=\"text-align: right;\">\n",
       "      <th></th>\n",
       "      <th>A</th>\n",
       "      <th>B</th>\n",
       "      <th>C</th>\n",
       "    </tr>\n",
       "  </thead>\n",
       "  <tbody>\n",
       "    <tr>\n",
       "      <th>a</th>\n",
       "      <td>NaN</td>\n",
       "      <td>NaN</td>\n",
       "      <td>NaN</td>\n",
       "    </tr>\n",
       "    <tr>\n",
       "      <th>b</th>\n",
       "      <td>69.0</td>\n",
       "      <td>69.0</td>\n",
       "      <td>62.0</td>\n",
       "    </tr>\n",
       "    <tr>\n",
       "      <th>c</th>\n",
       "      <td>94.0</td>\n",
       "      <td>72.0</td>\n",
       "      <td>96.0</td>\n",
       "    </tr>\n",
       "  </tbody>\n",
       "</table>\n",
       "</div>"
      ],
      "text/plain": [
       "      A     B     C\n",
       "a   NaN   NaN   NaN\n",
       "b  69.0  69.0  62.0\n",
       "c  94.0  72.0  96.0"
      ]
     },
     "execution_count": 66,
     "metadata": {},
     "output_type": "execute_result"
    }
   ],
   "source": [
    "d.shift(1)"
   ]
  },
  {
   "cell_type": "code",
   "execution_count": 67,
   "metadata": {},
   "outputs": [
    {
     "data": {
      "text/plain": [
       "0.6931471805599453"
      ]
     },
     "execution_count": 67,
     "metadata": {},
     "output_type": "execute_result"
    }
   ],
   "source": [
    "-np.log(0.5)"
   ]
  },
  {
   "cell_type": "code",
   "execution_count": null,
   "metadata": {},
   "outputs": [],
   "source": []
  }
 ],
 "metadata": {
  "kernelspec": {
   "display_name": "Python 3",
   "language": "python",
   "name": "python3"
  },
  "language_info": {
   "codemirror_mode": {
    "name": "ipython",
    "version": 3
   },
   "file_extension": ".py",
   "mimetype": "text/x-python",
   "name": "python",
   "nbconvert_exporter": "python",
   "pygments_lexer": "ipython3",
   "version": "3.7.5"
  }
 },
 "nbformat": 4,
 "nbformat_minor": 4
}
